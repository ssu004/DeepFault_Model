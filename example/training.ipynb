{
 "cells": [
  {
   "cell_type": "markdown",
   "metadata": {},
   "source": [
    "### 이전 코드에서 생성한 데이터 불러오기"
   ]
  },
  {
   "cell_type": "code",
   "execution_count": 1,
   "metadata": {},
   "outputs": [],
   "source": [
    "import numpy as np\n",
    "# continual learning을 위한 데이터셋\n",
    "\n",
    "train_data_level3 = {\"A\":[0,0],\"B\":[0,0],\"C\":[0,0]}\n",
    "train_data_level3[\"A\"][0] = np.load(\"../dataset/continual_learning_dataset/X_continual_train_data_A.npy\")\n",
    "train_data_level3[\"B\"][0] = np.load(\"../dataset/continual_learning_dataset/X_continual_train_data_B.npy\")\n",
    "train_data_level3[\"C\"][0] = np.load(\"../dataset/continual_learning_dataset/X_continual_train_data_C.npy\")\n",
    "\n",
    "train_data_level3[\"A\"][1] = np.load(\"../dataset/continual_learning_dataset/y_continual_train_data_A.npy\")\n",
    "train_data_level3[\"B\"][1] = np.load(\"../dataset/continual_learning_dataset/y_continual_train_data_B.npy\")\n",
    "train_data_level3[\"C\"][1] = np.load(\"../dataset/continual_learning_dataset/y_continual_train_data_C.npy\")\n",
    "\n",
    "val_data_level3 = {\"A\":[0,0],\"B\":[0,0],\"C\":[0,0]}\n",
    "val_data_level3[\"A\"][0] = np.load(\"../dataset/continual_learning_dataset/X_continual_val_data_A.npy\")\n",
    "val_data_level3[\"B\"][0] = np.load(\"../dataset/continual_learning_dataset/X_continual_val_data_B.npy\")\n",
    "val_data_level3[\"C\"][0] = np.load(\"../dataset/continual_learning_dataset/X_continual_val_data_C.npy\")\n",
    "\n",
    "val_data_level3[\"A\"][1] = np.load(\"../dataset/continual_learning_dataset/y_continual_val_data_A.npy\")\n",
    "val_data_level3[\"B\"][1] = np.load(\"../dataset/continual_learning_dataset/y_continual_val_data_B.npy\")\n",
    "val_data_level3[\"C\"][1] = np.load(\"../dataset/continual_learning_dataset/y_continual_val_data_C.npy\")\n",
    "\n",
    "test_data_level3 = {\"A\":[0,0],\"B\":[0,0],\"C\":[0,0]}\n",
    "test_data_level3[\"A\"][0] = np.load(\"../dataset/continual_learning_dataset/X_continual_test_data_A.npy\")\n",
    "test_data_level3[\"B\"][0] = np.load(\"../dataset/continual_learning_dataset/X_continual_test_data_B.npy\")\n",
    "test_data_level3[\"C\"][0] = np.load(\"../dataset/continual_learning_dataset/X_continual_test_data_C.npy\")\n",
    "\n",
    "test_data_level3[\"A\"][1] = np.load(\"../dataset/continual_learning_dataset/y_continual_test_data_A.npy\")\n",
    "test_data_level3[\"B\"][1] = np.load(\"../dataset/continual_learning_dataset/y_continual_test_data_B.npy\")\n",
    "test_data_level3[\"C\"][1] = np.load(\"../dataset/continual_learning_dataset/y_continual_test_data_C.npy\")\n",
    "\n",
    "\n",
    "# joint training 을 위한 데이터셋\n",
    "\n",
    "X_train_3 = np.load(\"../dataset/joint_training_dataset/X_joint_train_data.npy\")\n",
    "y_train_3 = np.load(\"../dataset/joint_training_dataset/y_joint_train_data.npy\")\n",
    "X_val_3 = np.load(\"../dataset/joint_training_dataset/X_joint_val_data.npy\")\n",
    "y_val_3 = np.load(\"../dataset/joint_training_dataset/y_joint_val_data.npy\")\n",
    "X_test_3 = np.load(\"../dataset/joint_training_dataset/X_joint_test_data.npy\")\n",
    "y_test_3 = np.load(\"../dataset/joint_training_dataset/y_joint_test_data.npy\")\n"
   ]
  },
  {
   "cell_type": "markdown",
   "metadata": {},
   "source": [
    "### 데이터로더 래핑"
   ]
  },
  {
   "cell_type": "code",
   "execution_count": 2,
   "metadata": {},
   "outputs": [],
   "source": [
    "# 상위 디렉토리로 작업환경 이동\n",
    "import os\n",
    "os.chdir(os.path.join(globals()['_dh'][0], \"..\"))"
   ]
  },
  {
   "cell_type": "code",
   "execution_count": 3,
   "metadata": {},
   "outputs": [
    {
     "name": "stderr",
     "output_type": "stream",
     "text": [
      "/data/home/happy113200/anaconda3/envs/cfb/lib/python3.10/site-packages/tqdm/auto.py:21: TqdmWarning: IProgress not found. Please update jupyter and ipywidgets. See https://ipywidgets.readthedocs.io/en/stable/user_install.html\n",
      "  from .autonotebook import tqdm as notebook_tqdm\n"
     ]
    }
   ],
   "source": [
    "from dfb.dataset import *\n",
    "from dfb.processing import *\n",
    "import experiment\n",
    "import torchvision.transforms as transforms\n",
    "\n",
    "model_name = \"wdcnn2\"\n",
    "\n",
    "sample_length = experiment.get_sample_length(model_name)\n",
    "tf_data = experiment.get_transform(model_name)\n",
    "tf_data = transforms.Compose(tf_data)\n",
    "tf_label = NpToTensor()\n",
    "batch_size = 128\n",
    "num_worker = 4\n",
    "\n",
    "data_handler = DatasetHandler()\n",
    "\n",
    "data_handler.assign(\n",
    "    X_train_3, y_train_3, X_val_3, y_val_3, X_test_3, y_test_3,\n",
    "    sample_length, \"3\", tf_data, tf_label, batch_size, num_worker\n",
    ")"
   ]
  },
  {
   "cell_type": "markdown",
   "metadata": {},
   "source": [
    "### 모델 가져오기"
   ]
  },
  {
   "cell_type": "code",
   "execution_count": 4,
   "metadata": {},
   "outputs": [],
   "source": [
    "\n",
    "# 모델 수정되는 경우 해당 셀에서 바로 갱신되도록 autoreload사용\n",
    "%load_ext autoreload\n",
    "%autoreload 2\n",
    "\n",
    "from dfb.model.wdcnn2 import *\n",
    "# 클래스 수는 맘대로 지정\n",
    "\n",
    "# 클래스 수 10개짜리 모델 만들기\n",
    "model = WDCNN2(n_classes=3)"
   ]
  },
  {
   "cell_type": "markdown",
   "metadata": {},
   "source": [
    "### 훈련하기"
   ]
  },
  {
   "cell_type": "code",
   "execution_count": 5,
   "metadata": {},
   "outputs": [
    {
     "name": "stderr",
     "output_type": "stream",
     "text": [
      "/data/home/happy113200/anaconda3/envs/cfb/lib/python3.10/site-packages/pytorch_lightning/trainer/connectors/accelerator_connector.py:447: LightningDeprecationWarning: Setting `Trainer(gpus=[0])` is deprecated in v1.7 and will be removed in v2.0. Please use `Trainer(accelerator='gpu', devices=[0])` instead.\n",
      "  rank_zero_deprecation(\n",
      "GPU available: True (cuda), used: True\n",
      "TPU available: False, using: 0 TPU cores\n",
      "IPU available: False, using: 0 IPUs\n",
      "HPU available: False, using: 0 HPUs\n",
      "/data/home/happy113200/anaconda3/envs/cfb/lib/python3.10/site-packages/pytorch_lightning/callbacks/model_checkpoint.py:616: UserWarning: Checkpoint directory /data/home/happy113200/DeepFault/logs/test/best_model exists and is not empty.\n",
      "  rank_zero_warn(f\"Checkpoint directory {dirpath} exists and is not empty.\")\n",
      "LOCAL_RANK: 0 - CUDA_VISIBLE_DEVICES: [5]\n",
      "\n",
      "  | Name    | Type             | Params\n",
      "---------------------------------------------\n",
      "0 | model   | WDCNN2           | 32.0 K\n",
      "1 | loss_fn | CrossEntropyLoss | 0     \n",
      "---------------------------------------------\n",
      "32.0 K    Trainable params\n",
      "0         Non-trainable params\n",
      "32.0 K    Total params\n",
      "0.128     Total estimated model params size (MB)\n"
     ]
    },
    {
     "name": "stdout",
     "output_type": "stream",
     "text": [
      "                                                                           "
     ]
    },
    {
     "name": "stderr",
     "output_type": "stream",
     "text": [
      "/data/home/happy113200/anaconda3/envs/cfb/lib/python3.10/site-packages/pytorch_lightning/trainer/trainer.py:1892: PossibleUserWarning: The number of training batches (18) is smaller than the logging interval Trainer(log_every_n_steps=50). Set a lower value for log_every_n_steps if you want to see logs for the training epoch.\n",
      "  rank_zero_warn(\n"
     ]
    },
    {
     "name": "stdout",
     "output_type": "stream",
     "text": [
      "Epoch 0:  96%|█████████▌| 23/24 [00:00<00:00, 32.11it/s, loss=1.03, v_num=55]"
     ]
    },
    {
     "name": "stderr",
     "output_type": "stream",
     "text": [
      "2023-07-17 03:54:28.389224: I tensorflow/core/platform/cpu_feature_guard.cc:193] This TensorFlow binary is optimized with oneAPI Deep Neural Network Library (oneDNN) to use the following CPU instructions in performance-critical operations:  AVX2 AVX512F AVX512_VNNI FMA\n",
      "To enable them in other operations, rebuild TensorFlow with the appropriate compiler flags.\n",
      "2023-07-17 03:54:28.562321: I tensorflow/core/util/port.cc:104] oneDNN custom operations are on. You may see slightly different numerical results due to floating-point round-off errors from different computation orders. To turn them off, set the environment variable `TF_ENABLE_ONEDNN_OPTS=0`.\n",
      "2023-07-17 03:54:29.250562: W tensorflow/compiler/xla/stream_executor/platform/default/dso_loader.cc:64] Could not load dynamic library 'libnvinfer.so.7'; dlerror: libnvinfer.so.7: cannot open shared object file: No such file or directory; LD_LIBRARY_PATH: :/usr/local/cuda-11.2/lib64\n",
      "2023-07-17 03:54:29.250651: W tensorflow/compiler/xla/stream_executor/platform/default/dso_loader.cc:64] Could not load dynamic library 'libnvinfer_plugin.so.7'; dlerror: libnvinfer_plugin.so.7: cannot open shared object file: No such file or directory; LD_LIBRARY_PATH: :/usr/local/cuda-11.2/lib64\n",
      "2023-07-17 03:54:29.250658: W tensorflow/compiler/tf2tensorrt/utils/py_utils.cc:38] TF-TRT Warning: Cannot dlopen some TensorRT libraries. If you would like to use Nvidia GPU with TensorRT, please make sure the missing libraries mentioned above are installed properly.\n"
     ]
    },
    {
     "name": "stdout",
     "output_type": "stream",
     "text": [
      "Epoch 95:   8%|▊         | 2/24 [00:00<00:02,  7.96it/s, loss=0.02, v_num=55, val_loss=0.0453, val_acc=0.985, train_loss=0.0212, train_acc=0.994]   "
     ]
    }
   ],
   "source": [
    "from dfb.trainmodule import *\n",
    "\n",
    "optimizer = torch.optim.Adam(model.parameters(), lr=0.001)\n",
    "loss = torch.nn.CrossEntropyLoss()\n",
    "\n",
    "# ticnn 플래그는 일단 신경쓸 필요 X\n",
    "training_module = PlModule(model, optimizer, loss, True)\n",
    "\n",
    "n_steps_d = len(data_handler.dataloaders[\"3\"][\"train\"].dataset) // (batch_size)\n",
    "\n",
    "# val_loss 가 가장 작은 모델을 저장하는 콜백\n",
    "callback = pl.callbacks.ModelCheckpoint(monitor=\"val_loss\",\n",
    "                                        dirpath=f\"./logs/test/best_model\",\n",
    "                                        filename=f\"model\",\n",
    "                                        save_top_k=1,\n",
    "                                        mode=\"min\")\n",
    "trainer = pl.Trainer(\n",
    "    gpus = [0],\n",
    "    max_epochs=100,\n",
    "    val_check_interval= n_steps_d,\n",
    "    default_root_dir=\"./logs/test\",\n",
    "    callbacks=[callback]\n",
    ")\n",
    "\n",
    "result = trainer.fit(model=training_module,\n",
    "                     train_dataloaders=data_handler.dataloaders[\"3\"][\"train\"],\n",
    "                     val_dataloaders=data_handler.dataloaders[\"3\"][\"val\"])\n"
   ]
  },
  {
   "cell_type": "markdown",
   "metadata": {},
   "source": [
    "### 테스트하기"
   ]
  },
  {
   "cell_type": "code",
   "execution_count": null,
   "metadata": {},
   "outputs": [
    {
     "name": "stderr",
     "output_type": "stream",
     "text": [
      "LOCAL_RANK: 0 - CUDA_VISIBLE_DEVICES: [5]\n"
     ]
    },
    {
     "name": "stdout",
     "output_type": "stream",
     "text": [
      "Testing DataLoader 0: 100%|██████████| 6/6 [00:00<00:00, 99.83it/s] \n",
      "────────────────────────────────────────────────────────────────────────────────────────────────────────────────────────\n",
      "       Test metric             DataLoader 0\n",
      "────────────────────────────────────────────────────────────────────────────────────────────────────────────────────────\n",
      "        test_acc             0.852393627166748\n",
      "        test_loss            0.326139360666275\n",
      "────────────────────────────────────────────────────────────────────────────────────────────────────────────────────────\n"
     ]
    }
   ],
   "source": [
    "training_module.load_from_checkpoint(f\"./logs/test/best_model/model-v8.ckpt\",\n",
    "                                            model=model, optimizer=optimizer,\n",
    "                                            loss_fn=loss)\n",
    "result = trainer.test(model=training_module, dataloaders=data_handler.dataloaders[\"3\"][\"test\"])"
   ]
  },
  {
   "cell_type": "code",
   "execution_count": null,
   "metadata": {},
   "outputs": [],
   "source": []
  }
 ],
 "metadata": {
  "kernelspec": {
   "display_name": "cfb",
   "language": "python",
   "name": "python3"
  },
  "language_info": {
   "codemirror_mode": {
    "name": "ipython",
    "version": 3
   },
   "file_extension": ".py",
   "mimetype": "text/x-python",
   "name": "python",
   "nbconvert_exporter": "python",
   "pygments_lexer": "ipython3",
   "version": "3.10.6"
  },
  "orig_nbformat": 4
 },
 "nbformat": 4,
 "nbformat_minor": 2
}
